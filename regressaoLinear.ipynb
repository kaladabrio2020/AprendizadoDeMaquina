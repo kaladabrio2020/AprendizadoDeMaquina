{
 "cells": [
  {
   "cell_type": "code",
   "execution_count": 339,
   "id": "fb0f361f",
   "metadata": {},
   "outputs": [],
   "source": [
    "import numpy as np  \n",
    "import matplotlib.pyplot as plt\n",
    "import pandas as pd\n",
    "\n",
    "\n",
    "import keras\n",
    "import tensorflow as tf"
   ]
  },
  {
   "cell_type": "markdown",
   "id": "83ec5b8a",
   "metadata": {},
   "source": [
    "## Regressão Linear"
   ]
  },
  {
   "cell_type": "markdown",
   "id": "1839a29c",
   "metadata": {},
   "source": [
    "### Regressão Linear Simples"
   ]
  },
  {
   "cell_type": "code",
   "execution_count": 340,
   "id": "6246b505",
   "metadata": {},
   "outputs": [],
   "source": [
    "# Your dataset\n",
    "altura      = np.array([1.087, 1.613, 0.953, 1.003, 1.156, 0.978, 1.092, 0.572, 0.940, 0.597, 0.838, 1.473])\n",
    "comprimento = np.array([37, 50, 34, 36, 43, 28, 37, 20, 34, 30, 38, 47])"
   ]
  },
  {
   "cell_type": "markdown",
   "id": "a89097e2",
   "metadata": {},
   "source": [
    "Problema: Dado uma altura n ̃ao presente na tabela, qual\n",
    "dever ́a ser o comprimento do cateter?"
   ]
  },
  {
   "cell_type": "code",
   "execution_count": 341,
   "id": "2ca6abb3",
   "metadata": {},
   "outputs": [
    {
     "data": {
      "image/png": "[encoded data removed]",
      "text/plain": [
       "<Figure size 640x480 with 1 Axes>"
      ]
     },
     "metadata": {},
     "output_type": "display_data"
    }
   ],
   "source": [
    "plt.plot(altura, comprimento, 'ro')\n",
    "plt.xlabel('Altura')\n",
    "plt.ylabel('Comprimento')\n",
    "plt.show()"
   ]
  },
  {
   "cell_type": "markdown",
   "id": "abf3e045",
   "metadata": {},
   "source": [
    "• A coluna Altura é a entrada do nosso modelo.\n",
    "\n",
    "• A coluna Comprimento é a sa ́ıda do nosso modelo.\n",
    "\n",
    "• Nosso conjunto de dados é formado por 12 alturas e 12\n",
    "comprimentos correspondentes.\n",
    "\n",
    "• Matematicamente, temos:\n",
    "$D = \\{(x1,y1),··· ,(x2,y2)\\}= \\{(xi ,yi )\\}_{12i}=1$,\n",
    "em que $x_i$  ́e a i - ́esima entrada e yi  ́e a i - ́esima sa ́ıda.\n",
    "\n",
    "• Objetivo: Encontrar uma relação entre xi e yi que forne ̧ca uma\n",
    "predicao $\\bar yi$ o mais proximo poss ́ıvel da saida real y"
   ]
  },
  {
   "cell_type": "markdown",
   "id": "7fb9cf51",
   "metadata": {},
   "source": [
    "#### Terminologia\n",
    "\n",
    "* **Features :** Variavel explicativa\n",
    "* **Target  :** Variavel resposta\n",
    "* **Modelo  :**\n",
    "* **Função Objetivo:** Indica o quão mal (ou o\n",
    "quão bem) um modelo aproxima os dados disponíveis.\n"
   ]
  },
  {
   "cell_type": "markdown",
   "id": "674b9815",
   "metadata": {},
   "source": [
    "#### Modelo\n",
    "$y_i =  w_0 + w_1 x_i$"
   ]
  },
  {
   "cell_type": "markdown",
   "id": "398ecd01",
   "metadata": {},
   "source": [
    "Quero minimizar error do valor real e valor predito"
   ]
  },
  {
   "cell_type": "markdown",
   "id": "970b8fa5",
   "metadata": {},
   "source": [
    "$$ J = \\min_{w_0, w_1} \\frac{1}{2N} \\sum^N_{i=1}(y_i - (w_0 + w_1 x_i))^2$$"
   ]
  },
  {
   "cell_type": "markdown",
   "id": "4046d548",
   "metadata": {},
   "source": [
    "> Para minimizar o error quadrático médio do valor predito e real será feito o metodo da descida o gradiente, para tal derivamos em relação a $w_0$ e $w_1$"
   ]
  },
  {
   "cell_type": "markdown",
   "id": "8e4592a1",
   "metadata": {},
   "source": [
    "`W_0`"
   ]
  },
  {
   "cell_type": "markdown",
   "id": "b3fc697c",
   "metadata": {},
   "source": [
    "$\\large \\frac{\\partial J}{\\partial w_0}$\n",
    "\n",
    "$\\frac{\\partial J}{\\partial w_0} = \\frac{\\partial}{\\partial w_0}\\frac{1}{2N} \\sum^N_{i=1}(y_i - (w_0 + w_1 x_i))^2$\n",
    "\n",
    "$\\frac{\\partial J}{\\partial w_0} =  2\\frac{1}{2N} \\sum^N_{i=1}(y_i - (w_0 + w_1 x_i))(-1)$\n",
    "* Corta o 2\n",
    "\n",
    "$\\frac{\\partial J}{\\partial w_0} =  \\frac{1}{N} \\sum^N_{i=1}(y_i - (w_0 + w_1 x_i))(-1)$\n",
    "\n",
    "\n",
    "$\\frac{\\partial J}{\\partial w_0} =  \\frac{1}{N} \\sum^N_{i=1}(y_i - w_0 - w_1 x_i)(-1)$\n",
    "\n",
    "\n",
    "$\\frac{\\partial J}{\\partial w_0} =  -1\\cdot\\frac{1}{N} \\sum^N_{i=1}(y_i - w_0 - w_1x_i)$\n",
    "\n",
    "$E_{w_0} = \\frac{\\partial J}{\\partial w_0}$"
   ]
  },
  {
   "cell_type": "markdown",
   "id": "03248030",
   "metadata": {},
   "source": [
    "`W_1`"
   ]
  },
  {
   "cell_type": "markdown",
   "id": "17880741",
   "metadata": {},
   "source": [
    "$\\large \\frac{\\partial J}{\\partial w_1}$\n",
    "\n",
    "$\\frac{\\partial J}{\\partial w_1} = \\frac{\\partial}{\\partial w_0}\\frac{1}{2N} \\sum^N_{i=1}(y_i - w_0 - w_1 x_i)^2$\n",
    "\n",
    "$\\frac{\\partial J}{\\partial w_1} =  2\\frac{1}{2N} \\sum^N_{i=1}(y_i - w_0 - w_1 x_i)(-w_1)$\n",
    "* Corta o 2\n",
    "\n",
    "$\\frac{\\partial J}{\\partial w_1} =  \\frac{1}{N} \\sum^N_{i=1}(y_i - w_0 - w_1 x_i)(-1*w_1)$\n",
    "\n",
    "$\\frac{\\partial J}{\\partial w_1} =  -\\frac{1}{N} \\sum^N_{i=1}(y_i - w_0 - w_1 x_i)(x_i)$\n",
    "\n",
    "$E_{w1} = \\frac{\\partial J}{\\partial w_1}$"
   ]
  },
  {
   "cell_type": "markdown",
   "id": "1da03976",
   "metadata": {},
   "source": [
    "#### Gradiente descente"
   ]
  },
  {
   "cell_type": "markdown",
   "id": "0315eb69",
   "metadata": {},
   "source": [
    "```pseudo\n",
    "alpha <- define (0.01 geralmente)\n",
    "w_0   <- inicia aleatoriamente\n",
    "w_0   <- inicia aleatoriamente\n",
    "loss  <- loss_fn(ytrue, ypred) \n",
    "\n",
    "PARA I EM 1 ATÉ MAX_ITER:\n",
    "    w_0 <- w_0 + alpha * E_w0 \n",
    "    w_1 <- w_1 + alpha * E_w1\n",
    "\n",
    "    loss <- loss_fn(ytrue, ypred) \n",
    "```"
   ]
  },
  {
   "cell_type": "code",
   "execution_count": 342,
   "id": "14575ed2",
   "metadata": {},
   "outputs": [],
   "source": [
    "class ModeloSimples(tf.Module):\n",
    "    def __init__(self, name='Modelo'):\n",
    "        super().__init__(name)\n",
    "        self.intercept = tf.Variable(1, dtype=tf.float32)\n",
    "        self.coef_     = tf.Variable( abs(np.random.normal()), dtype=tf.float32)\n",
    "    \n",
    "    def call(self, inputs):\n",
    "        return self.intercept + self.coef_ * inputs"
   ]
  },
  {
   "cell_type": "code",
   "execution_count": 343,
   "id": "92971903",
   "metadata": {},
   "outputs": [],
   "source": [
    "def GD(inputs, targets, model ,learning_rate=0.01, max_epochs=100, verbose=False):\n",
    "\n",
    "    x = inputs  # Valores de entrada\n",
    "    y = targets # Valores reais\n",
    "\n",
    "    # Definindo a função de perda\n",
    "    loss = tf.keras.losses.MeanSquaredError()\n",
    "    listLoss = []\n",
    "    for i in range(1, max_epochs + 1):\n",
    "        # Atualizando o coeficiente : w = w - lr * np.mean((y - w * x) * x)\n",
    "        derW1 = 1 * learning_rate * np.mean((y - model.call(x)) * x)\n",
    "        model.coef_ = model.coef_ + tf.Variable(derW1, dtype=tf.float32) \n",
    "            \n",
    "\n",
    "        # Atualizando o intercept : w = w - lr * np.mean(y - w * x) \n",
    "        derW0 = 1 * learning_rate * np.mean(y - model.call(x))\n",
    "        model.intercept = model.intercept + tf.Variable(derW0, dtype=tf.float32) \n",
    "            \n",
    "        loss_ = loss(y, model.call(x))\n",
    "        if verbose:\n",
    "            if i % 10 == 0:\n",
    "                print(f'Epoch {i} - Loss: {loss_}')\n",
    "        listLoss.append(loss_)\n",
    "\n",
    "    return model, listLoss"
   ]
  },
  {
   "cell_type": "code",
   "execution_count": 344,
   "id": "bb2e97ba",
   "metadata": {},
   "outputs": [],
   "source": [
    "model = ModeloSimples()"
   ]
  },
  {
   "cell_type": "code",
   "execution_count": 345,
   "id": "6f99dc5f",
   "metadata": {},
   "outputs": [
    {
     "name": "stdout",
     "output_type": "stream",
     "text": [
      "Epoch 10 - Loss: 818.5082397460938\n",
      "Epoch 20 - Loss: 542.3129272460938\n",
      "Epoch 30 - Loss: 361.0565185546875\n",
      "Epoch 40 - Loss: 242.1020965576172\n",
      "Epoch 50 - Loss: 164.0320587158203\n",
      "Epoch 60 - Loss: 112.7918472290039\n",
      "Epoch 70 - Loss: 79.15835571289062\n",
      "Epoch 80 - Loss: 57.079097747802734\n",
      "Epoch 90 - Loss: 42.58230972290039\n",
      "Epoch 100 - Loss: 33.06160354614258\n"
     ]
    }
   ],
   "source": [
    "modelGB, listLoss = GD(\n",
    "    altura, comprimento, model, \n",
    "    verbose   =True, \n",
    "    max_epochs=100\n",
    "    )"
   ]
  },
  {
   "cell_type": "code",
   "execution_count": 346,
   "id": "0796f91d",
   "metadata": {},
   "outputs": [
    {
     "data": {
      "image/png": "[encoded data removed]",
      "text/plain": [
       "<Figure size 1500x500 with 2 Axes>"
      ]
     },
     "metadata": {},
     "output_type": "display_data"
    }
   ],
   "source": [
    "plt.figure(figsize=(15,5))\n",
    "plt.subplot(1,2,1)\n",
    "plt.plot(altura, comprimento, 'ro')\n",
    "plt.plot(altura, modelGB.call(altura), 'b')\n",
    "plt.xlabel('Altura')\n",
    "plt.ylabel('Comprimento')\n",
    "\n",
    "plt.subplot(1,2,2)\n",
    "plt.plot(listLoss)\n",
    "plt.xlabel('Epochs')\n",
    "plt.ylabel('Loss')\n",
    "plt.show()\n"
   ]
  },
  {
   "cell_type": "markdown",
   "id": "7606f270",
   "metadata": {},
   "source": [
    "```pseudo\n",
    "Gradiente descendente Estocatico\n",
    "\n",
    "alpha <- define (0.01 geralmente)\n",
    "w_0   <- inicia aleatoriamente\n",
    "w_0   <- inicia aleatoriamente\n",
    "loss  <- loss_fn(ytrue, ypred) \n",
    "\n",
    "PARA I EM 1 ATÉ MAX_EPOCAS:\n",
    "    XI <- X(PERMUTAÇÃO)\n",
    "    YI <- Y(PERMUTAÇÃO)\n",
    "    PARA J EM 1 ATÉ N_INSTANCIA:\n",
    "        w_0 <- w_0 + alpha * Ei_w0\n",
    "        w_1 <- w_1 + alpha * Ei_w1(xi)\n",
    "\n",
    "    loss <- loss_fn(ytrue, ypred) \n",
    "\n",
    "```"
   ]
  },
  {
   "cell_type": "code",
   "execution_count": 347,
   "id": "44149648",
   "metadata": {},
   "outputs": [],
   "source": [
    "def SGD(inputs, targets, model ,learning_rate=0.01, max_epochs=100, verbose=False):\n",
    "\n",
    "    x = inputs.reshape(-1, 1)  # Valores de entrada\n",
    "    y = targets.reshape(-1, 1) # Valores reais\n",
    "\n",
    "    # Definindo a função de perda\n",
    "    loss = tf.keras.losses.MeanSquaredError()\n",
    "    \n",
    "    # N\n",
    "    N = np.size(y, 0)\n",
    "   \n",
    "\n",
    "    for i in range(1, max_epochs + 1):\n",
    "        xPer = tf.random.shuffle(x)\n",
    "        yPer = tf.random.shuffle(y)\n",
    "\n",
    "        for i in range(N):\n",
    "            derW1 = 1 * learning_rate * ((yPer[i, :].numpy()[0] - model.call(xPer[i, :].numpy()[0])) * xPer[i, :].numpy()[0])\n",
    "           \n",
    "            model.coef_ = model.coef_ + tf.Variable(derW1, dtype=tf.float32)  \n",
    "            \n",
    "\n",
    "            derW0 = 1 * learning_rate * (yPer[i, :].numpy()[0] - model.call(xPer[i, :].numpy()[0]))\n",
    "            model.intercept = model.intercept + tf.Variable(derW0, dtype=tf.float32) \n",
    "            \n",
    "        \n",
    "    return model"
   ]
  },
  {
   "cell_type": "code",
   "execution_count": 348,
   "id": "b32e249f",
   "metadata": {},
   "outputs": [],
   "source": [
    "model = ModeloSimples()\n",
    "modelSGB = SGD(altura, comprimento, model, verbose=True, max_epochs=100)"
   ]
  },
  {
   "cell_type": "code",
   "execution_count": 349,
   "id": "01977a64",
   "metadata": {},
   "outputs": [
    {
     "data": {
      "image/png": "[encoded data removed]",
      "text/plain": [
       "<Figure size 1500x500 with 2 Axes>"
      ]
     },
     "metadata": {},
     "output_type": "display_data"
    }
   ],
   "source": [
    "plt.figure(figsize=(15,5))\n",
    "plt.subplot(1,2,1)\n",
    "plt.plot(altura, comprimento, 'ro')\n",
    "plt.plot(altura, modelSGB.call(altura), 'b')\n",
    "plt.xlabel('Altura')\n",
    "plt.ylabel('Comprimento')\n",
    "\n",
    "plt.subplot(1,2,2)    \n",
    "plt.plot(listLoss)\n",
    "plt.xlabel('Epochs')\n",
    "plt.ylabel('Loss')\n",
    "plt.show()"
   ]
  },
  {
   "cell_type": "markdown",
   "id": "8dd02467",
   "metadata": {},
   "source": [
    "&nbsp;"
   ]
  },
  {
   "cell_type": "markdown",
   "id": "4c9b7a58",
   "metadata": {},
   "source": [
    "### Meus Modelos Padrões"
   ]
  },
  {
   "cell_type": "code",
   "execution_count": 350,
   "id": "909252b9",
   "metadata": {},
   "outputs": [],
   "source": [
    "from sklearn.metrics import r2_score, mean_squared_error"
   ]
  },
  {
   "cell_type": "code",
   "execution_count": 351,
   "id": "f1c87d08",
   "metadata": {},
   "outputs": [],
   "source": [
    "class Modelo(tf.Module):\n",
    "    def __init__(self, name='Modelo', shape=(1,1)):\n",
    "        super().__init__(name)\n",
    "        \n",
    "        # Definindo o interceptor\n",
    "        self.intercept = tf.Variable(\n",
    "            initial_value = 1, \n",
    "            dtype = tf.float32,\n",
    "            name  ='Interceptor'\n",
    "        )\n",
    "\n",
    "        # Definindo o coeficiente\n",
    "        self.coef_ = tf.Variable( \n",
    "            initial_value = abs(np.random.randn(*shape)), \n",
    "            dtype = tf.float32,\n",
    "            name  = 'Coeficiente')\n",
    "    \n",
    "    def call(self, inputs): \n",
    "        # Tratando o input de acordo com a sua dimensão\n",
    "        inputs = inputs.reshape(-1, 1) if len(inputs.shape) == 1 else inputs\n",
    "\n",
    "        return tf.multiply(inputs, self.coef_) + self.intercept"
   ]
  },
  {
   "cell_type": "code",
   "execution_count": 352,
   "id": "fd172ca6",
   "metadata": {},
   "outputs": [],
   "source": [
    "def SGD(X, y, model, learning_rate=0.01, max_epochs=100, verbose=False):\n",
    "    # Definindo o otimizador\n",
    "    optim = keras.optimizers.SGD(learning_rate=learning_rate)\n",
    "\n",
    "    # Definindo a função de perda\n",
    "    loss  = tf.keras.losses.MeanSquaredError()\n",
    "    \n",
    "    \n",
    "    for i in range(1, max_epochs + 1):\n",
    "        with tf.GradientTape() as tape:\n",
    "            ypred = model.call(X)\n",
    "            loss_  = loss(y, ypred)\n",
    "\n",
    "        gradient = tape.gradient(loss_, model.trainable_variables)\n",
    "        optim.apply_gradients(zip(gradient, model.trainable_variables))\n",
    "        if verbose:\n",
    "            if i % 10 == 0:\n",
    "                print(f'Epoch {i} - Loss: {loss_}')\n",
    "    \n",
    "    return model"
   ]
  },
  {
   "cell_type": "code",
   "execution_count": 353,
   "id": "ed9ceb17",
   "metadata": {},
   "outputs": [
    {
     "data": {
      "text/plain": [
       "(12,)"
      ]
     },
     "execution_count": 353,
     "metadata": {},
     "output_type": "execute_result"
    }
   ],
   "source": [
    "altura.shape"
   ]
  },
  {
   "cell_type": "code",
   "execution_count": 354,
   "id": "8ea7491e",
   "metadata": {},
   "outputs": [],
   "source": [
    "model = Modelo(shape=(12, 1))"
   ]
  },
  {
   "cell_type": "code",
   "execution_count": 355,
   "id": "00132fb0",
   "metadata": {},
   "outputs": [],
   "source": [
    "modelSGB = SGD(altura, comprimento, model, max_epochs=1000)"
   ]
  },
  {
   "cell_type": "code",
   "execution_count": 356,
   "id": "347da3cf",
   "metadata": {},
   "outputs": [],
   "source": [
    "pred = modelSGB.call(altura).numpy()"
   ]
  },
  {
   "cell_type": "code",
   "execution_count": 357,
   "id": "c24d29d3",
   "metadata": {},
   "outputs": [
    {
     "name": "stdout",
     "output_type": "stream",
     "text": [
      "Coeficiente: <tf.Variable 'Coeficiente:0' shape=(12, 1) dtype=float32, numpy=\n",
      "array([[ 5.177533 ],\n",
      "       [11.756197 ],\n",
      "       [ 2.9223034],\n",
      "       [ 4.48945  ],\n",
      "       [ 9.742179 ],\n",
      "       [-2.0108068],\n",
      "       [ 5.127274 ],\n",
      "       [-7.0689335],\n",
      "       [ 2.9508255],\n",
      "       [ 0.3718925],\n",
      "       [ 6.359082 ],\n",
      "       [10.724642 ]], dtype=float32)>\n",
      "Intercept: <tf.Variable 'Interceptor:0' shape=() dtype=float32, numpy=30.638044357299805>\n",
      "R2: 0.9279040694236755\n",
      "MSE: 4.4198802630532255\n"
     ]
    }
   ],
   "source": [
    "print(f'Coeficiente: {modelSGB.coef_}\\nIntercept: {modelSGB.intercept}\\nR2: {r2_score(comprimento, pred)}\\nMSE: {mean_squared_error(comprimento, pred)}')"
   ]
  },
  {
   "cell_type": "markdown",
   "id": "a7d594a4",
   "metadata": {},
   "source": [
    "`Modelo customizado`"
   ]
  },
  {
   "cell_type": "code",
   "execution_count": null,
   "id": "0a6f9b7d",
   "metadata": {},
   "outputs": [],
   "source": [
    "def SGD(X, y, model, optim = keras.optimizers.SGD(learning_rate=0.01), loss = tf.keras.losses.MeanSquaredError(), max_epochs=100, verbose=False):   \n",
    "\n",
    "    X = X.reshape(-1, 1) if len(X.shape) == 1 else X\n",
    "    \n",
    "    for i in range(1, max_epochs + 1):\n",
    "        with tf.GradientTape() as tape:\n",
    "            ypred = model.call(X)\n",
    "            loss_  = loss(y, ypred)\n",
    "\n",
    "        gradient = tape.gradient(loss_, model.trainable_variables)\n",
    "        optim.apply_gradients(zip(gradient, model.trainable_variables))\n",
    "        if verbose:\n",
    "            if i % 10 == 0:\n",
    "                print(f'Epoch {i} - Loss: {loss_}')\n",
    "    \n",
    "    return model"
   ]
  }
 ],
 "metadata": {
  "kernelspec": {
   "display_name": "Python 3",
   "language": "python",
   "name": "python3"
  },
  "language_info": {
   "codemirror_mode": {
    "name": "ipython",
    "version": 3
   },
   "file_extension": ".py",
   "mimetype": "text/x-python",
   "name": "python",
   "nbconvert_exporter": "python",
   "pygments_lexer": "ipython3",
   "version": "3.12.7"
  }
 },
 "nbformat": 4,
 "nbformat_minor": 5
}
